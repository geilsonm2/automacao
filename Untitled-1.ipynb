{
 "cells": [
  {
   "cell_type": "code",
   "execution_count": 1,
   "metadata": {},
   "outputs": [],
   "source": [
    "import pandas as pd\n",
    "import pyautogui\n",
    "import pyperclip\n",
    "import time"
   ]
  },
  {
   "cell_type": "code",
   "execution_count": 2,
   "metadata": {},
   "outputs": [],
   "source": [
    "# pyautogui.click -> clicar\n",
    "# pyautogui.press -> apertar 1 tecla\n",
    "# pyautogui.hotkey -> conjunto de teclas\n",
    "# pyautogui.write -> escreve um texto\n",
    "#pyperclip.copy -> para copiar um link da forma correta\n",
    "#pyautogui.PAUSE = 1 -> pausa de um sec, para continuar o código\n",
    "# time.sleep(5) -> time de 5 sec, também para continuar o codigo\n",
    "#pyautogui.click(x=1023, y=710, clicks=2) -> especifica onde e a quantidade de clicks que o mouse vai realizar\n",
    "#pyautogui.position() -> pega a posição especifica de onde o mouse ira clicar"
   ]
  },
  {
   "cell_type": "code",
   "execution_count": 3,
   "metadata": {},
   "outputs": [],
   "source": [
    "#Abrindo o google\n",
    "pyautogui.press(\"win\")\n",
    "pyautogui.write(\"google\")\n",
    "pyautogui.press(\"enter\")\n"
   ]
  },
  {
   "cell_type": "code",
   "execution_count": 4,
   "metadata": {},
   "outputs": [],
   "source": [
    "#Abrindo o google\n",
    "time.sleep(2)\n",
    "pyautogui.write(\"https://epfweb.safra.com.br/Home/Login\")\n",
    "pyautogui.press(\"enter\")"
   ]
  },
  {
   "cell_type": "code",
   "execution_count": 5,
   "metadata": {},
   "outputs": [],
   "source": [
    "#Primeiro click para realizar o login\n",
    "time.sleep(3)\n",
    "pyautogui.click(x=845, y=353)\n",
    "#Segundo click para abrir o menu\n",
    "time.sleep(2)\n",
    "pyautogui.click(x=37, y=153)\n",
    "#Terceiro click para abrir os relatorios\n",
    "time.sleep(1)\n",
    "pyautogui.click(x=133, y=364)\n",
    "#Quarto click selecionar lista de relatorios\n",
    "time.sleep(1)\n",
    "pyautogui.click(x=626, y=216)\n",
    "#Quinto click selecionar consulta de comissões\n",
    "time.sleep(1)\n",
    "pyautogui.click(x=367, y=251)\n",
    "#Sexto click clicar em selecionar\n",
    "time.sleep(2)\n",
    "pyautogui.click(x=895, y=480)\n",
    "\n",
    "\n",
    "\n"
   ]
  },
  {
   "cell_type": "code",
   "execution_count": 6,
   "metadata": {},
   "outputs": [],
   "source": [
    "#Selecionando campo e digitando nova data\n",
    "time.sleep(2)\n",
    "pyautogui.click(x=775, y=440, clicks=3)\n",
    "\n",
    "#Clicar fora do campo\n",
    "time.sleep(7)\n",
    "pyautogui.click(x=809, y=455)\n",
    "\n",
    "#Clicar OK\n",
    "time.sleep(5)\n",
    "pyautogui.click(x=809, y=455)\n",
    "\n",
    "#Seleciona a lupinha\n",
    "time.sleep(3)\n",
    "pyautogui.click(x=650, y=215)\n",
    "\n",
    "#Faz o download\n",
    "time.sleep(3)\n",
    "pyautogui.click(x=810, y=257)"
   ]
  },
  {
   "cell_type": "code",
   "execution_count": 7,
   "metadata": {},
   "outputs": [
    {
     "data": {
      "text/plain": [
       "Point(x=2154, y=93)"
      ]
     },
     "execution_count": 7,
     "metadata": {},
     "output_type": "execute_result"
    }
   ],
   "source": [
    "time.sleep(3)\n",
    "pyautogui.position() "
   ]
  }
 ],
 "metadata": {
  "kernelspec": {
   "display_name": "Python 3 (ipykernel)",
   "language": "python",
   "name": "python3"
  },
  "language_info": {
   "codemirror_mode": {
    "name": "ipython",
    "version": 3
   },
   "file_extension": ".py",
   "mimetype": "text/x-python",
   "name": "python",
   "nbconvert_exporter": "python",
   "pygments_lexer": "ipython3",
   "version": "3.9.13"
  },
  "vscode": {
   "interpreter": {
    "hash": "e6a2148b05e95285f1e77e44658aa0ac4b1f5790f9e11bbde6cfebb7cd5141fb"
   }
  }
 },
 "nbformat": 4,
 "nbformat_minor": 2
}
