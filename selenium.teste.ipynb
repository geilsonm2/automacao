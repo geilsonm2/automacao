{
 "cells": [
  {
   "cell_type": "code",
   "execution_count": 107,
   "id": "c1b75913",
   "metadata": {},
   "outputs": [],
   "source": [
    "#Instrutura padrão para o uso do Selenium\n",
    "from selenium import webdriver\n",
    "from webdriver_manager.chrome import ChromeDriverManager\n",
    "#from webdriver_manager.firefox import GeckoDriverManager\n",
    "from selenium.webdriver.chrome.service import Service\n",
    "# from selenium.webdriver.firefox.service import Service\n",
    "from selenium.webdriver.chrome.service import Service\n",
    "from selenium.webdriver.common.keys import Keys \n",
    "from datetime import date\n",
    "import time\n",
    "\n",
    "#Verificar a versão do google e instalar o Driver de acordo com o mesmo\n",
    "#servico = Service(GeckoDriverManager().install()) \n",
    "servico = Service(ChromeDriverManager().install()) \n",
    "time.sleep(2)\n",
    "navegador = webdriver.Chrome(service=servico) #Utilizar o Chrome instalado acima.\n",
    "#navegador = webdriver.Firefox(service=servico) #Utilizar o Chrome instalado acima."
   ]
  },
  {
   "cell_type": "code",
   "execution_count": 108,
   "id": "1b0091fe",
   "metadata": {},
   "outputs": [],
   "source": [
    "# time.sleep(2)\n",
    "# #Passo 1:\n",
    "# navegador.get('https://portal.redepromotiva.com.br/wplogin.aspx')\n",
    "# time.sleep(2)\n",
    "# navegador.find_element('xpath', '//*[@id=\"vLOGIN\"]').send_keys(\"spbf.producao\")\n",
    "# time.sleep(2)\n",
    "# navegador.find_element('xpath', '//*[@id=\"vSENHA\"]').send_keys(\"GMVB@7699\")\n",
    "# time.sleep(2)\n",
    "# navegador.find_element('xpath','//*[@id=\"ENTER\"]').click()"
   ]
  },
  {
   "cell_type": "code",
   "execution_count": 109,
   "id": "788b99d7",
   "metadata": {},
   "outputs": [],
   "source": [
    "\n",
    "#Passo 1:\n",
    "navegador.get('https://epfweb.safra.com.br/Home/Login')\n",
    "\n",
    "navegador.implicitly_wait(10)\n",
    "navegador.find_element('xpath', '//*[@id=\"txtUsuario\"]').send_keys(\"CBSU155796\")\n",
    "\n",
    "navegador.implicitly_wait(10)\n",
    "navegador.find_element('xpath', '//*[@id=\"txtSenha\"]').send_keys(\"MaiSv@857\")\n"
   ]
  },
  {
   "cell_type": "code",
   "execution_count": 110,
   "id": "0e7e1990",
   "metadata": {},
   "outputs": [],
   "source": [
    "navegador.implicitly_wait(10)\n",
    "navegador.find_element('xpath','//*[@id=\"btnEntrar\"]').click()\n",
    "\n",
    "time.sleep(30)\n",
    "\n",
    "navegador.implicitly_wait(10)\n",
    "navegador.find_element('xpath','//*[@id=\"btnEntrar\"]').click()\n",
    "\n",
    "# navegador.implicitly_wait(10)\n",
    "# navegador.find_element('xpath','//*[@id=\"btnEntrar\"]').click()\n",
    "\n",
    "navegador.implicitly_wait(10)\n",
    "#Clicando no MENU\n",
    "navegador.find_element('xpath', '//*[@id=\"browser\"]/li/span').click()"
   ]
  },
  {
   "cell_type": "code",
   "execution_count": 111,
   "id": "ecd7818b",
   "metadata": {},
   "outputs": [],
   "source": [
    "#Clicando em Central de Relatórios\n",
    "navegador.implicitly_wait(10)\n",
    "navegador.find_element('xpath', '//*[@id=\"ulMenu\"]/li[9]/span/a').click()"
   ]
  },
  {
   "cell_type": "code",
   "execution_count": 112,
   "id": "0ddea0a2",
   "metadata": {},
   "outputs": [],
   "source": [
    "#Selecionando tipo de Relatórios\n",
    "navegador.implicitly_wait(10)\n",
    "navegador.find_element('xpath', '//*[@id=\"ddlCentralDownload_chzn\"]/a/span').click()"
   ]
  },
  {
   "cell_type": "code",
   "execution_count": 113,
   "id": "532e1e11",
   "metadata": {},
   "outputs": [],
   "source": [
    "navegador.implicitly_wait(10)\n",
    "navegador.find_element('xpath', '/html/body/div[3]/div[2]/div/div[1]/form/p/div/div/div/input').send_keys(\"consulta comissoes\")\n"
   ]
  },
  {
   "cell_type": "code",
   "execution_count": 114,
   "id": "48ceb45f",
   "metadata": {},
   "outputs": [],
   "source": [
    "navegador.implicitly_wait(10)\n",
    "navegador.find_element('xpath', '/html/body/div[3]/div[2]/div/div[1]/form/p/div/div/div/input').send_keys(Keys.ENTER)"
   ]
  },
  {
   "cell_type": "code",
   "execution_count": 118,
   "id": "dacdacae",
   "metadata": {},
   "outputs": [],
   "source": [
    "#Clicando em solicitar \n",
    "navegador.implicitly_wait(10)\n",
    "navegador.find_element('xpath', '//*[@id=\"btnSolicitar\"]/span').click()"
   ]
  },
  {
   "cell_type": "code",
   "execution_count": 119,
   "id": "6be2cd00",
   "metadata": {},
   "outputs": [],
   "source": [
    "#Selecionando o campo de datas \n",
    "navegador.find_element('xpath', '//*[@id=\"txtDataInicio\"]').click()"
   ]
  },
  {
   "cell_type": "code",
   "execution_count": 2,
   "id": "d154a0ce",
   "metadata": {},
   "outputs": [
    {
     "ename": "SyntaxError",
     "evalue": "invalid syntax (2809141692.py, line 4)",
     "output_type": "error",
     "traceback": [
      "\u001b[1;36m  File \u001b[1;32m\"C:\\Users\\geilson.maciel\\AppData\\Local\\Temp\\ipykernel_14332\\2809141692.py\"\u001b[1;36m, line \u001b[1;32m4\u001b[0m\n\u001b[1;33m    const data = new Date ()\u001b[0m\n\u001b[1;37m          ^\u001b[0m\n\u001b[1;31mSyntaxError\u001b[0m\u001b[1;31m:\u001b[0m invalid syntax\n"
     ]
    }
   ],
   "source": [
    "#Digitando data para seleção\n",
    "navegador.execute_script(\n",
    "    \n",
    "    const data = new Date ()\n",
    "\n",
    "    const dia = String(data.getDate() - 15).padStart(2,'0')\n",
    "\n",
    "    const mes = String (data.getMonth() +1 ).padStart(2,'0')\n",
    "\n",
    "    const ano = data.getFullYear() // 2021\n",
    "\n",
    "    const dataAtual = (`${dia}/${mes}/${ano}`)\n",
    "\n",
    "    let preenchendoData = document.querySelector(#txtDataInicio).value;\n",
    ") \n",
    "\n",
    "\n",
    "\n",
    "   "
   ]
  },
  {
   "cell_type": "code",
   "execution_count": 122,
   "id": "e9128bb9",
   "metadata": {},
   "outputs": [],
   "source": [
    "navegador.find_element('xpath', '/html/body/div[10]/div[3]/div/button[1]/span').click()"
   ]
  },
  {
   "cell_type": "code",
   "execution_count": null,
   "id": "9b0737b5",
   "metadata": {},
   "outputs": [],
   "source": []
  },
  {
   "cell_type": "code",
   "execution_count": null,
   "id": "08cb1b71",
   "metadata": {},
   "outputs": [],
   "source": []
  },
  {
   "cell_type": "code",
   "execution_count": null,
   "id": "3a9d2373",
   "metadata": {},
   "outputs": [],
   "source": []
  }
 ],
 "metadata": {
  "kernelspec": {
   "display_name": "Python 3 (ipykernel)",
   "language": "python",
   "name": "python3"
  },
  "language_info": {
   "codemirror_mode": {
    "name": "ipython",
    "version": 3
   },
   "file_extension": ".py",
   "mimetype": "text/x-python",
   "name": "python",
   "nbconvert_exporter": "python",
   "pygments_lexer": "ipython3",
   "version": "3.9.13"
  },
  "vscode": {
   "interpreter": {
    "hash": "e6a2148b05e95285f1e77e44658aa0ac4b1f5790f9e11bbde6cfebb7cd5141fb"
   }
  }
 },
 "nbformat": 4,
 "nbformat_minor": 5
}
