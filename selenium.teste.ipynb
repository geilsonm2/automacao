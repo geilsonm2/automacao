{
 "cells": [
  {
   "cell_type": "code",
   "execution_count": 32,
   "id": "c1b75913",
   "metadata": {},
   "outputs": [
    {
     "name": "stderr",
     "output_type": "stream",
     "text": [
      "[WDM] - Downloading: 19.0kB [00:00, 6.54MB/s]                   \n"
     ]
    }
   ],
   "source": [
    "#Instrutura padrão para o uso do Selenium\n",
    "from selenium import webdriver\n",
    "#from webdriver_manager.chrome import ChromeDriverManager\n",
    "from webdriver_manager.firefox import GeckoDriverManager\n",
    "#from selenium.webdriver.chrome.service import Service\n",
    "from selenium.webdriver.firefox.service import Service\n",
    "from selenium.webdriver.common.keys import Keys \n",
    "from datetime import date\n",
    "import time\n",
    "\n",
    "#Verificar a versão do google e instalar o Driver de acordo com o mesmo\n",
    "servico = Service(GeckoDriverManager().install()) \n",
    "time.sleep(2)\n",
    "navegador = webdriver.Firefox(service=servico) #Utilizar o Chrome instalado acima."
   ]
  },
  {
   "cell_type": "code",
   "execution_count": 33,
   "id": "1b0091fe",
   "metadata": {},
   "outputs": [],
   "source": [
    "# time.sleep(2)\n",
    "# #Passo 1:\n",
    "# navegador.get('https://portal.redepromotiva.com.br/wplogin.aspx')\n",
    "# time.sleep(2)\n",
    "# navegador.find_element('xpath', '//*[@id=\"vLOGIN\"]').send_keys(\"spbf.producao\")\n",
    "# time.sleep(2)\n",
    "# navegador.find_element('xpath', '//*[@id=\"vSENHA\"]').send_keys(\"GMVB@7699\")\n",
    "# time.sleep(2)\n",
    "# navegador.find_element('xpath','//*[@id=\"ENTER\"]').click()"
   ]
  },
  {
   "cell_type": "code",
   "execution_count": 34,
   "id": "788b99d7",
   "metadata": {},
   "outputs": [],
   "source": [
    "time.sleep(2)\n",
    "#Passo 1:\n",
    "navegador.get('https://epfweb.safra.com.br/Home/Login')\n",
    "time.sleep(2)\n",
    "navegador.find_element('xpath', '//*[@id=\"txtUsuario\"]').send_keys(\"CBSU155796\")\n",
    "time.sleep(2)\n",
    "navegador.find_element('xpath', '//*[@id=\"txtSenha\"]').send_keys(\"MaiSv@857\")\n"
   ]
  },
  {
   "cell_type": "code",
   "execution_count": 35,
   "id": "0e7e1990",
   "metadata": {},
   "outputs": [],
   "source": [
    "time.sleep(2)\n",
    "navegador.find_element('xpath','//*[@id=\"btnEntrar\"]').click()\n",
    "\n",
    "time.sleep(30)\n",
    "navegador.find_element('xpath','//*[@id=\"btnEntrar\"]').click()\n",
    "\n",
    "time.sleep(7)\n",
    "#Clicando no MENU\n",
    "navegador.find_element('xpath', '//*[@id=\"browser\"]/li/span').click()"
   ]
  },
  {
   "cell_type": "code",
   "execution_count": 36,
   "id": "ecd7818b",
   "metadata": {},
   "outputs": [],
   "source": [
    "#Clicando em Central de Relatórios\n",
    "navegador.find_element('xpath', '//*[@id=\"ulMenu\"]/li[9]/span/a').click()"
   ]
  },
  {
   "cell_type": "code",
   "execution_count": 37,
   "id": "0ddea0a2",
   "metadata": {},
   "outputs": [],
   "source": [
    "#Selecionando tipo de Relatórios\n",
    "navegador.find_element('xpath', '//*[@id=\"ddlCentralDownload_chzn\"]/a/span').click()"
   ]
  },
  {
   "cell_type": "code",
   "execution_count": 38,
   "id": "532e1e11",
   "metadata": {},
   "outputs": [],
   "source": [
    "time.sleep(2)\n",
    "navegador.find_element('xpath', '/html/body/div[3]/div[2]/div/div[1]/form/p/div/div/div/input').send_keys(\"consulta comissoes\")\n"
   ]
  },
  {
   "cell_type": "code",
   "execution_count": 39,
   "id": "48ceb45f",
   "metadata": {},
   "outputs": [],
   "source": [
    "time.sleep(2)\n",
    "navegador.find_element('xpath', '/html/body/div[3]/div[2]/div/div[1]/form/p/div/div/div/input').send_keys(Keys.ENTER)"
   ]
  },
  {
   "cell_type": "code",
   "execution_count": 40,
   "id": "dacdacae",
   "metadata": {},
   "outputs": [],
   "source": [
    "#Clicando em solicitar \n",
    "navegador.find_element('xpath', '//*[@id=\"btnSolicitar\"]/span').click()"
   ]
  },
  {
   "cell_type": "code",
   "execution_count": null,
   "id": "d154a0ce",
   "metadata": {},
   "outputs": [],
   "source": []
  }
 ],
 "metadata": {
  "kernelspec": {
   "display_name": "Python 3 (ipykernel)",
   "language": "python",
   "name": "python3"
  },
  "language_info": {
   "codemirror_mode": {
    "name": "ipython",
    "version": 3
   },
   "file_extension": ".py",
   "mimetype": "text/x-python",
   "name": "python",
   "nbconvert_exporter": "python",
   "pygments_lexer": "ipython3",
   "version": "3.9.13"
  },
  "vscode": {
   "interpreter": {
    "hash": "e6a2148b05e95285f1e77e44658aa0ac4b1f5790f9e11bbde6cfebb7cd5141fb"
   }
  }
 },
 "nbformat": 4,
 "nbformat_minor": 5
}
