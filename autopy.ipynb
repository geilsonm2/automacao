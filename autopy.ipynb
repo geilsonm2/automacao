{
 "cells": [
  {
   "cell_type": "code",
   "execution_count": 2,
   "metadata": {},
   "outputs": [
    {
     "ename": "ModuleNotFoundError",
     "evalue": "No module named 'pyautogui'",
     "output_type": "error",
     "traceback": [
      "\u001b[1;31m---------------------------------------------------------------------------\u001b[0m",
      "\u001b[1;31mModuleNotFoundError\u001b[0m                       Traceback (most recent call last)",
      "\u001b[1;32mc:\\Users\\Mah\\AutoPY\\autopy.ipynb Célula: 1\u001b[0m in \u001b[0;36m<cell line: 2>\u001b[1;34m()\u001b[0m\n\u001b[0;32m      <a href='vscode-notebook-cell:/c%3A/Users/Mah/AutoPY/autopy.ipynb#W0sZmlsZQ%3D%3D?line=0'>1</a>\u001b[0m \u001b[39mimport\u001b[39;00m \u001b[39mpandas\u001b[39;00m \u001b[39mas\u001b[39;00m \u001b[39mpd\u001b[39;00m\n\u001b[1;32m----> <a href='vscode-notebook-cell:/c%3A/Users/Mah/AutoPY/autopy.ipynb#W0sZmlsZQ%3D%3D?line=1'>2</a>\u001b[0m \u001b[39mimport\u001b[39;00m \u001b[39mpyautogui\u001b[39;00m\n\u001b[0;32m      <a href='vscode-notebook-cell:/c%3A/Users/Mah/AutoPY/autopy.ipynb#W0sZmlsZQ%3D%3D?line=2'>3</a>\u001b[0m \u001b[39mimport\u001b[39;00m \u001b[39mpyperclip\u001b[39;00m\n\u001b[0;32m      <a href='vscode-notebook-cell:/c%3A/Users/Mah/AutoPY/autopy.ipynb#W0sZmlsZQ%3D%3D?line=3'>4</a>\u001b[0m \u001b[39mimport\u001b[39;00m \u001b[39mtime\u001b[39;00m\n",
      "\u001b[1;31mModuleNotFoundError\u001b[0m: No module named 'pyautogui'"
     ]
    }
   ],
   "source": [
    "import pandas as pd\n",
    "import pyautogui\n",
    "import pyperclip\n",
    "import time"
   ]
  },
  {
   "cell_type": "code",
   "execution_count": null,
   "metadata": {},
   "outputs": [],
   "source": [
    "# pyautogui.click -> clicar\n",
    "# pyautogui.press -> apertar 1 tecla\n",
    "# pyautogui.hotkey -> conjunto de teclas\n",
    "# pyautogui.write -> escreve um texto\n",
    "#pyperclip.copy -> para copiar um link da forma correta\n",
    "#pyautogui.PAUSE = 1 -> pausa de um sec, para continuar o código\n",
    "# time.sleep(5) -> time de 5 sec, também para continuar o codigo\n",
    "#pyautogui.click(x=1023, y=710, clicks=2) -> especifica onde e a quantidade de clicks que o mouse vai realizar\n",
    "#pyautogui.position() -> pega a posição especifica de onde o mouse ira clicar"
   ]
  },
  {
   "cell_type": "code",
   "execution_count": null,
   "metadata": {},
   "outputs": [],
   "source": [
    "#Abrindo o google\n",
    "pyautogui.press(\"win\")\n",
    "pyautogui.write(\"google\")\n",
    "pyautogui.press(\"enter\")\n"
   ]
  },
  {
   "cell_type": "code",
   "execution_count": null,
   "metadata": {},
   "outputs": [],
   "source": [
    "#Abrindo o google\n",
    "time.sleep(2)\n",
    "pyautogui.write(\"https://epfweb.safra.com.br/Home/Login\")\n",
    "pyautogui.press(\"enter\")\n"
   ]
  },
  {
   "cell_type": "code",
   "execution_count": null,
   "metadata": {},
   "outputs": [],
   "source": [
    "#Primeiro click para realizar o login\n",
    "time.sleep(4)\n",
    "pyautogui.click(x=726, y=352)\n",
    "#Segundo click para abrir o menu\n",
    "time.sleep(2)\n",
    "pyautogui.click(x=37, y=153)\n",
    "#Terceiro click para abrir os relatorios\n",
    "time.sleep(1)\n",
    "pyautogui.click(x=133, y=364)\n",
    "#Quarto click selecionar lista de relatorios\n",
    "time.sleep(1)\n",
    "pyautogui.click(x=626, y=216)\n",
    "#Quinto click selecionar consulta de comissões\n",
    "time.sleep(1)\n",
    "pyautogui.click(x=524, y=342)\n",
    "#Sexto click clicar em selecionar\n",
    "time.sleep(2)\n",
    "pyautogui.click(x=233, y=255)\n",
    "\n",
    "\n"
   ]
  },
  {
   "cell_type": "code",
   "execution_count": null,
   "metadata": {},
   "outputs": [],
   "source": [
    "#Selecionando campo e digitando nova data\n",
    "time.sleep(2)\n",
    "pyautogui.click(x=644, y=380, clicks=3)\n",
    "\n",
    "#Clicar fora do campo\n",
    "time.sleep(7)\n",
    "pyautogui.click(x=809, y=455)\n",
    "\n",
    "#Clicar OK\n",
    "time.sleep(5)\n",
    "pyautogui.click(x=809, y=455)\n",
    "\n",
    "#Seleciona a lupinha\n",
    "time.sleep(3)\n",
    "pyautogui.click(x=650, y=215)\n",
    "\n",
    "#Faz o download\n",
    "time.sleep(3)\n",
    "pyautogui.click(x=810, y=257)\n",
    "\n",
    "\n",
    "time.sleep(1)\n",
    "pyautogui.press(\"win\")\n",
    "time.sleep(1)\n",
    "pyautogui.write(\"excel\")\n",
    "time.sleep(2)\n",
    "pyautogui.press(\"enter\")\n",
    "\n",
    "#Abrir o arquivo baixado no excel\n",
    "time.sleep(3)\n",
    "pyautogui.click(x=362, y=478)\n",
    "\n",
    "#Selecionar formatação\n",
    "time.sleep(3)\n",
    "pyautogui.click(x=882, y=460)\n",
    "\n",
    "#Colocar ;\n",
    "time.sleep(2)\n",
    "pyautogui.click(x=447, y=229)\n",
    "time.sleep(1)\n",
    "pyautogui.write(\";\")\n",
    "\n",
    "#Concluir\n",
    "time.sleep(2)\n",
    "pyautogui.click(x=954, y=468)\n",
    "\n",
    "\n",
    "\n",
    "\n"
   ]
  },
  {
   "cell_type": "code",
   "execution_count": null,
   "metadata": {},
   "outputs": [
    {
     "data": {
      "text/plain": [
       "Point(x=954, y=468)"
      ]
     },
     "execution_count": 396,
     "metadata": {},
     "output_type": "execute_result"
    }
   ],
   "source": [
    "time.sleep(4)\n",
    "pyautogui.position() "
   ]
  },
  {
   "cell_type": "code",
   "execution_count": null,
   "metadata": {},
   "outputs": [],
   "source": [
    "# time.sleep(1)\n",
    "# pyautogui.press(\"win\")\n",
    "# time.sleep(1)\n",
    "# pyautogui.write(\"explorador de arquivos\")\n",
    "# time.sleep(2)\n",
    "# pyautogui.press(\"enter\")\n",
    "# time.sleep(1)\n",
    "# pyautogui.click(x=590, y=306)\n",
    "# time.sleep(1)\n",
    "# pyperclip.copy(r\"C:\\Users\\Mah\\Downloads\")\n",
    "# pyautogui.hotkey(\"ctrl\",\"v\")\n",
    "# pyautogui.press(\"enter\")"
   ]
  },
  {
   "cell_type": "code",
   "execution_count": null,
   "metadata": {},
   "outputs": [],
   "source": [
    "# time.sleep(3)\n",
    "# pyautogui.moveTo(x=136, y=696)\n",
    "# time.sleep(3)\n",
    "# # pyautogui.mouseDown()\n",
    "# pyautogui.hotkey(\"alt\", \"tab\")\n",
    "# pyautogui.moveTo(x=810, y=257)\n",
    "# time.sleep(3)\n",
    "\n",
    "\n",
    "\n",
    "\n",
    "# pyautogui.write(input(\"Digite a data\"))"
   ]
  },
  {
   "cell_type": "code",
   "execution_count": null,
   "metadata": {},
   "outputs": [],
   "source": [
    "\n",
    "#C:\\Users\\Mah\\Downloads\n",
    "\n",
    "# time.sleep(2)\n",
    "# pyautogui.rightclick(x=326, y=402)"
   ]
  }
 ],
 "metadata": {
  "kernelspec": {
   "display_name": "Python 3",
   "language": "python",
   "name": "python3"
  },
  "language_info": {
   "codemirror_mode": {
    "name": "ipython",
    "version": 3
   },
   "file_extension": ".py",
   "mimetype": "text/x-python",
   "name": "python",
   "nbconvert_exporter": "python",
   "pygments_lexer": "ipython3",
   "version": "3.10.9"
  },
  "orig_nbformat": 4,
  "vscode": {
   "interpreter": {
    "hash": "ecc15554f4d3706b0143855e858a7fc8032b7a5f4c96f322c96bcafe5a42bf9a"
   }
  }
 },
 "nbformat": 4,
 "nbformat_minor": 2
}
